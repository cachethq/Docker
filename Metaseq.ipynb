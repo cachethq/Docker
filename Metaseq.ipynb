{
  "nbformat": 4,
  "nbformat_minor": 0,
  "metadata": {
    "colab": {
      "name": "Metaseq.ipynb",
      "provenance": [],
      "collapsed_sections": [],
      "private_outputs": true,
      "authorship_tag": "ABX9TyPnd3KEjiQSZqXLPVUHZwos",
      "include_colab_link": true
    },
    "kernelspec": {
      "name": "python3",
      "display_name": "Python 3"
    },
    "language_info": {
      "name": "python"
    },
    "accelerator": "GPU"
  },
  "cells": [
    {
      "cell_type": "markdown",
      "metadata": {
        "id": "view-in-github",
        "colab_type": "text"
      },
      "source": [
        "<a href=\"https://colab.research.google.com/github/Mearman/Cachet-Docker/blob/main/Metaseq.ipynb\" target=\"_parent\"><img src=\"https://colab.research.google.com/assets/colab-badge.svg\" alt=\"Open In Colab\"/></a>"
      ]
    },
    {
      "cell_type": "markdown",
      "source": [
        "Source: https://github.com/facebookresearch/metaseq\n",
        "# Setup\n",
        "\n",
        "We rely on the following external repositories:\n",
        "* https://github.com/ngoyal2707/Megatron-LM/tree/fairseq_v2\n",
        "* https://github.com/NVIDIA/apex\n",
        "* https://github.com/facebookresearch/fairscale.git"
      ],
      "metadata": {
        "id": "-iTWt78ixubK"
      }
    },
    {
      "cell_type": "markdown",
      "source": [
        "## Install PyTorch"
      ],
      "metadata": {
        "id": "VxVeiRN20I90"
      }
    },
    {
      "cell_type": "code",
      "source": [
        "%%bash\n",
        "pip3 install torch==1.10.1+cu113 torchvision==0.11.2+cu113 torchaudio==0.10.1+cu113 -f https://download.pytorch.org/whl/cu113/torch_stable.html"
      ],
      "metadata": {
        "id": "xMZYRzayz_3P"
      },
      "execution_count": null,
      "outputs": []
    },
    {
      "cell_type": "markdown",
      "source": [
        "## Install Apex"
      ],
      "metadata": {
        "id": "07JyjN8q0S6X"
      }
    },
    {
      "cell_type": "code",
      "source": [
        "%%bash\n",
        "popd\n",
        "git clone https://github.com/NVIDIA/apex.git || echo \"repo present\"\n",
        "pwd\n",
        "pushd apex\n",
        "pwd\n",
        "git checkout e2083df5eb96643c61613b9df48dd4eea6b07690\n",
        "pip3 install -v --no-cache-dir --global-option=\"--cpp_ext\" --global-option=\"--cuda_ext\" --global-option=\"--deprecated_fused_adam\" --global-option=\"--xentropy\" --global-option=\"--fast_multihead_attn\" ./"
      ],
      "metadata": {
        "id": "adnl3-zL0TDa"
      },
      "execution_count": null,
      "outputs": []
    },
    {
      "cell_type": "markdown",
      "source": [
        "Depending on the hardware you're running on, you may need to comment out lines 101-107 in setup.py here.\n"
      ],
      "metadata": {
        "id": "EMQ1DpzT0uwb"
      }
    },
    {
      "cell_type": "markdown",
      "source": [
        "## Install Megatron"
      ],
      "metadata": {
        "id": "DqWbxdjv0wEB"
      }
    },
    {
      "cell_type": "code",
      "source": [
        "%%bash\n",
        "popd\n",
        "git clone --branch fairseq_v2 https://github.com/ngoyal2707/Megatron-LM.git || echo \"repo present\"\n",
        "pushd Megatron-LM\n",
        "pip3 install six regex\n",
        "pip3 install -e ."
      ],
      "metadata": {
        "id": "WoIvY47L1czw"
      },
      "execution_count": null,
      "outputs": []
    },
    {
      "cell_type": "markdown",
      "source": [
        "## Install fairscale"
      ],
      "metadata": {
        "id": "i2tSZz811f0e"
      }
    },
    {
      "cell_type": "code",
      "source": [
        "%%bash\n",
        "popd\n",
        "git clone https://github.com/facebookresearch/fairscale.git || echo \"repo present\"\n",
        "pushd fairscale\n",
        "git checkout prefetch_fsdp_params_simple\n",
        "pip3 install -e ."
      ],
      "metadata": {
        "id": "oP60add71obz"
      },
      "execution_count": null,
      "outputs": []
    },
    {
      "cell_type": "markdown",
      "source": [
        "## Install metaseq"
      ],
      "metadata": {
        "id": "p3hgJljm1tce"
      }
    },
    {
      "cell_type": "code",
      "source": [
        "%%bash\n",
        "popd\n",
        "git clone https://github.com/facebookresearch/metaseq.git || echo \"repo present\"\n",
        "pushd metaseq\n",
        "pip3 install -e .\n",
        "\n",
        "# turn on pre-commit hooks\n",
        "pre-commit install"
      ],
      "metadata": {
        "id": "-bRF-T0c1wtz"
      },
      "execution_count": null,
      "outputs": []
    }
  ]
}